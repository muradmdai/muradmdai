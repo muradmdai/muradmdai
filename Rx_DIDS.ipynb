{
  "nbformat": 4,
  "nbformat_minor": 0,
  "metadata": {
    "colab": {
      "provenance": [],
      "authorship_tag": "ABX9TyOYrtSo/yO/paG4vF0Z4Iiv",
      "include_colab_link": true
    },
    "kernelspec": {
      "name": "python3",
      "display_name": "Python 3"
    },
    "language_info": {
      "name": "python"
    }
  },
  "cells": [
    {
      "cell_type": "markdown",
      "metadata": {
        "id": "view-in-github",
        "colab_type": "text"
      },
      "source": [
        "<a href=\"https://colab.research.google.com/github/muradmdai/muradmdai/blob/main/Rx_DIDS.ipynb\" target=\"_parent\"><img src=\"https://colab.research.google.com/assets/colab-badge.svg\" alt=\"Open In Colab\"/></a>"
      ]
    },
    {
      "cell_type": "code",
      "execution_count": 1,
      "metadata": {
        "id": "R41pvPx_qszA"
      },
      "outputs": [],
      "source": [
        "import pandas as pd\n",
        "import numpy as np\n",
        "import matplotlib.pyplot as plt\n",
        "import seaborn as sns\n",
        "import warnings\n",
        "warnings.filterwarnings('ignore')"
      ]
    },
    {
      "cell_type": "code",
      "source": [
        "df_jan1=pd.read_excel('/content/Jan.xlsx',sheet_name='1to15')"
      ],
      "metadata": {
        "id": "bsu8EcQPrBMT"
      },
      "execution_count": 3,
      "outputs": []
    },
    {
      "cell_type": "code",
      "source": [
        "df_jan2=pd.read_excel('/content/Jan.xlsx',sheet_name='16to31')"
      ],
      "metadata": {
        "id": "lgMQRB_MwD_8"
      },
      "execution_count": 4,
      "outputs": []
    },
    {
      "cell_type": "code",
      "source": [
        "# prompt: list the headings of df_jan1 & df_jan2\n",
        "\n",
        "print(\"Headings of df_jan1:\")\n",
        "print(df_jan1.columns.tolist())\n",
        "print(\"\\nHeadings of df_jan2:\")\n",
        "print(df_jan2.columns.tolist())\n"
      ],
      "metadata": {
        "colab": {
          "base_uri": "https://localhost:8080/"
        },
        "id": "Q0LusoHrxVe0",
        "outputId": "8bad510c-fd52-4169-9ebb-020f986da610"
      },
      "execution_count": 5,
      "outputs": [
        {
          "output_type": "stream",
          "name": "stdout",
          "text": [
            "Headings of df_jan1:\n",
            "['SetOn', 'SurveyNo', 'DoctorId', 'InstituteId', 'EmployeeId', 'CompId', 'DeptId', 'SBU', 'SBUName', 'ZoneCode', 'ZoneName', 'RegionCode', 'RegionName', 'TerritoryCode', 'TerritoryName', 'MarketCode', 'MarketName', 'PharmaProductID', 'SBU.1', 'Duration', 'QtyPerDay', 'TotalQty', 'SurveyNo.1', 'TotalAmount', 'GenericCode', 'GenericName', 'ProductCode', 'ProductName', 'SBUName.1', 'TCL1Code', 'TCL1Name', 'TCL2Code', 'TCL2Name', 'TCL3Code', 'TCL3Name', 'TCL4Code', 'TCL4Name', 'UnitPrice']\n",
            "\n",
            "Headings of df_jan2:\n",
            "['SetOn', 'SurveyNo', 'DoctorId', 'InstituteId', 'EmployeeId', 'CompId', 'DeptId', 'SBU', 'SBUName', 'ZoneCode', 'ZoneName', 'RegionCode', 'RegionName', 'TerritoryCode', 'TerritoryName', 'MarketCode', 'MarketName', 'PharmaProductID', 'SBU.1', 'Duration', 'QtyPerDay', 'TotalQty', 'SurveyNo.1', 'Ref', 'TotalAmount', 'GenericCode', 'GenericName', 'ProductCode', 'ProductName', 'SBUName.1', 'TCL1Code', 'TCL1Name', 'TCL2Code', 'TCL2Name', 'TCL3Code', 'TCL3Name', 'TCL4Code', 'TCL4Name', 'UnitPrice']\n"
          ]
        }
      ]
    },
    {
      "cell_type": "code",
      "source": [
        "# prompt:  from df_jan2 exclude column 'Ref'\n",
        "\n",
        "df_jan2 = df_jan2.drop('Ref', axis=1)\n"
      ],
      "metadata": {
        "id": "xcoHFx92xy3n"
      },
      "execution_count": 6,
      "outputs": []
    },
    {
      "cell_type": "code",
      "source": [
        "# prompt: merge df_jan1 & df_jan2 to df_jan\n",
        "\n",
        "df_jan = pd.concat([df_jan1, df_jan2], ignore_index=True)\n"
      ],
      "metadata": {
        "id": "MVtpL4WVyODG"
      },
      "execution_count": 7,
      "outputs": []
    },
    {
      "cell_type": "code",
      "source": [
        "df_feb1=pd.read_excel('/content/Feb.xlsx',sheet_name='1to10')"
      ],
      "metadata": {
        "id": "aNL6BaAO5uQW"
      },
      "execution_count": 8,
      "outputs": []
    },
    {
      "cell_type": "code",
      "source": [
        "df_feb12=pd.read_excel('/content/Feb.xlsx',sheet_name='11to20')"
      ],
      "metadata": {
        "id": "xHzno_xK7IEe"
      },
      "execution_count": 9,
      "outputs": []
    },
    {
      "cell_type": "code",
      "source": [
        "df_feb13=pd.read_excel('/content/Feb.xlsx',sheet_name='21to28')"
      ],
      "metadata": {
        "id": "svlITL9q9fMY"
      },
      "execution_count": 10,
      "outputs": []
    },
    {
      "cell_type": "code",
      "source": [
        "print(\"Headings of df_feb1:\")\n",
        "print(df_feb1.columns.tolist())\n",
        "print(\"\\nHeadings of df_feb2:\")\n",
        "print(df_feb12.columns.tolist())\n",
        "print(\"\\nHeadings of df_feb3:\")\n",
        "print(df_feb13.columns.tolist())"
      ],
      "metadata": {
        "colab": {
          "base_uri": "https://localhost:8080/"
        },
        "id": "urV6FCX7-c7k",
        "outputId": "fece1ad8-64a1-41f8-9852-73171e33a872"
      },
      "execution_count": 11,
      "outputs": [
        {
          "output_type": "stream",
          "name": "stdout",
          "text": [
            "Headings of df_feb1:\n",
            "['SetOn', 'SurveyNo', 'DoctorId', 'InstituteId', 'EmployeeId', 'CompId', 'DeptId', 'SBU', 'SBUName', 'ZoneCode', 'ZoneName', 'RegionCode', 'RegionName', 'TerritoryCode', 'TerritoryName', 'MarketCode', 'MarketName', 'PharmaProductID', 'SBU.1', 'Duration', 'QtyPerDay', 'TotalQty', 'SurveyNo.1', 'TotalAmount', 'GenericCode', 'GenericName', 'ProductCode', 'ProductName', 'SBUName.1', 'TCL1Code', 'TCL1Name', 'TCL2Code', 'TCL2Name', 'TCL3Code', 'TCL3Name', 'TCL4Code', 'TCL4Name', 'UnitPrice']\n",
            "\n",
            "Headings of df_feb2:\n",
            "['SetOn', 'SurveyNo', 'DoctorId', 'InstituteId', 'EmployeeId', 'CompId', 'DeptId', 'SBU', 'SBUName', 'ZoneCode', 'ZoneName', 'RegionCode', 'RegionName', 'TerritoryCode', 'TerritoryName', 'MarketCode', 'MarketName', 'PharmaProductID', 'SBU.1', 'Duration', 'QtyPerDay', 'TotalQty', 'SurveyNo.1', 'TotalAmount', 'GenericCode', 'GenericName', 'ProductCode', 'ProductName', 'SBUName.1', 'TCL1Code', 'TCL1Name', 'TCL2Code', 'TCL2Name', 'TCL3Code', 'TCL3Name', 'TCL4Code', 'TCL4Name', 'UnitPrice']\n",
            "\n",
            "Headings of df_feb3:\n",
            "['SetOn', 'SurveyNo', 'DoctorId', 'InstituteId', 'EmployeeId', 'CompId', 'DeptId', 'SBU', 'SBUName', 'ZoneCode', 'ZoneName', 'RegionCode', 'RegionName', 'TerritoryCode', 'TerritoryName', 'MarketCode', 'MarketName', 'PharmaProductID', 'SBU.1', 'Duration', 'QtyPerDay', 'TotalQty', 'SurveyNo.1', 'TotalAmount', 'GenericCode', 'GenericName', 'ProductCode', 'ProductName', 'SBUName.1', 'TCL1Code', 'TCL1Name', 'TCL2Code', 'TCL2Name', 'TCL3Code', 'TCL3Name', 'TCL4Code', 'TCL4Name', 'UnitPrice']\n"
          ]
        }
      ]
    },
    {
      "cell_type": "code",
      "source": [
        "df_feb = pd.concat([df_feb1, df_feb12, df_feb13], ignore_index=True)"
      ],
      "metadata": {
        "id": "dV1zivQY_hvr"
      },
      "execution_count": 12,
      "outputs": []
    },
    {
      "cell_type": "code",
      "source": [
        "df_jantofeb=pd.concat([df_jan,df_feb],ignore_index=True)"
      ],
      "metadata": {
        "id": "Gd7Q73X0_s54"
      },
      "execution_count": 13,
      "outputs": []
    },
    {
      "cell_type": "code",
      "source": [
        "# prompt: in df_jantofeb, create column taking first 10 digits of 'SetOn' column\n",
        "\n",
        "df_jantofeb['Date'] = df_jantofeb['SetOn'].astype(str).str[:10]\n"
      ],
      "metadata": {
        "id": "kutdSPXH_9LI"
      },
      "execution_count": 14,
      "outputs": []
    },
    {
      "cell_type": "code",
      "source": [
        "# prompt: generate new data frame for containing Asynta Max in ProductName column\n",
        "\n",
        "# Create a new DataFrame containing only rows where ProductName is 'Asynta Max'\n",
        "df_asynta_max = df_jantofeb[df_jantofeb['ProductName'] == 'ASYNTA MAX SUS 200ML'].copy()\n"
      ],
      "metadata": {
        "id": "lqg8Q3-9KM5v"
      },
      "execution_count": 20,
      "outputs": []
    },
    {
      "cell_type": "code",
      "source": [
        "# prompt: generate an excel file for df_asynta_max\n",
        "\n",
        "# Assuming df_asynta_max is already defined as in your code snippet\n",
        "\n",
        "# Export the DataFrame to an Excel file\n",
        "df_asynta_max.to_excel('df_asynta_max.xlsx', index=False)  # Set index=False to avoid writing row indices to the file\n",
        "\n"
      ],
      "metadata": {
        "id": "p-uCjJUgKbiC"
      },
      "execution_count": 21,
      "outputs": []
    },
    {
      "cell_type": "code",
      "source": [
        "# prompt: download df_asynta_max.to_excel to pc\n",
        "\n",
        "from google.colab import files\n",
        "\n",
        "# Download the Excel file to your local machine\n",
        "files.download('df_asynta_max.xlsx')\n"
      ],
      "metadata": {
        "colab": {
          "base_uri": "https://localhost:8080/",
          "height": 17
        },
        "id": "zpucOoqhKwmD",
        "outputId": "03b07a45-9f20-452d-f987-9595be8c9edd"
      },
      "execution_count": 22,
      "outputs": [
        {
          "output_type": "display_data",
          "data": {
            "text/plain": [
              "<IPython.core.display.Javascript object>"
            ],
            "application/javascript": [
              "\n",
              "    async function download(id, filename, size) {\n",
              "      if (!google.colab.kernel.accessAllowed) {\n",
              "        return;\n",
              "      }\n",
              "      const div = document.createElement('div');\n",
              "      const label = document.createElement('label');\n",
              "      label.textContent = `Downloading \"${filename}\": `;\n",
              "      div.appendChild(label);\n",
              "      const progress = document.createElement('progress');\n",
              "      progress.max = size;\n",
              "      div.appendChild(progress);\n",
              "      document.body.appendChild(div);\n",
              "\n",
              "      const buffers = [];\n",
              "      let downloaded = 0;\n",
              "\n",
              "      const channel = await google.colab.kernel.comms.open(id);\n",
              "      // Send a message to notify the kernel that we're ready.\n",
              "      channel.send({})\n",
              "\n",
              "      for await (const message of channel.messages) {\n",
              "        // Send a message to notify the kernel that we're ready.\n",
              "        channel.send({})\n",
              "        if (message.buffers) {\n",
              "          for (const buffer of message.buffers) {\n",
              "            buffers.push(buffer);\n",
              "            downloaded += buffer.byteLength;\n",
              "            progress.value = downloaded;\n",
              "          }\n",
              "        }\n",
              "      }\n",
              "      const blob = new Blob(buffers, {type: 'application/binary'});\n",
              "      const a = document.createElement('a');\n",
              "      a.href = window.URL.createObjectURL(blob);\n",
              "      a.download = filename;\n",
              "      div.appendChild(a);\n",
              "      a.click();\n",
              "      div.remove();\n",
              "    }\n",
              "  "
            ]
          },
          "metadata": {}
        },
        {
          "output_type": "display_data",
          "data": {
            "text/plain": [
              "<IPython.core.display.Javascript object>"
            ],
            "application/javascript": [
              "download(\"download_d179bf13-9b68-4cd9-b818-e7bb5a25920b\", \"df_asynta_max.xlsx\", 2856852)"
            ]
          },
          "metadata": {}
        }
      ]
    }
  ]
}